{
 "cells": [
  {
   "cell_type": "markdown",
   "metadata": {},
   "source": [
    "# Sparse selection methods for ICTUS dataset\n",
    "\n",
    "We implement kernelised Orthogonal Matching Pursuit and apply it to the ICTUS dataset.\n",
    "\n",
    "Towards the end of the dataset we also evaluate performance of **LASSO** on the same dataset.\n",
    "\n",
    "Results are not particularly promising"
   ]
  },
  {
   "cell_type": "code",
   "execution_count": 1,
   "metadata": {},
   "outputs": [],
   "source": [
    "%load_ext autoreload\n",
    "%autoreload 2\n",
    "\n",
    "%matplotlib notebook"
   ]
  },
  {
   "cell_type": "code",
   "execution_count": 2,
   "metadata": {},
   "outputs": [],
   "source": [
    "import sys\n",
    "sys.path.append(\"../PyFalkon/src\")\n",
    "import time\n",
    "import math\n",
    "\n",
    "import numpy as np\n",
    "import pandas as pd\n",
    "import scipy\n",
    "from scipy.spatial import distance\n",
    "import matplotlib.pyplot as plt\n",
    "from matplotlib import cm\n",
    "\n",
    "from sklearn import model_selection, preprocessing\n",
    "from sklearn.model_selection import train_test_split, KFold\n",
    "from sklearn.decomposition import PCA\n",
    "from sklearn.manifold import TSNE\n",
    "\n",
    "from falkon import Falkon \n",
    "from nystrom import select_uniform_centers\n",
    "from kernels import *\n",
    "from utils import load_mat_data"
   ]
  },
  {
   "cell_type": "code",
   "execution_count": 3,
   "metadata": {},
   "outputs": [],
   "source": [
    "fname = \"./run_all.mat\"\n",
    "X, Y = load_mat_data(fname)\n",
    "Y[Y == 0.0] = -1.0"
   ]
  },
  {
   "cell_type": "markdown",
   "metadata": {},
   "source": [
    "## Train/Test Split"
   ]
  },
  {
   "cell_type": "code",
   "execution_count": 4,
   "metadata": {},
   "outputs": [],
   "source": [
    "kf = KFold(n_splits=5)\n",
    "scaler = preprocessing.StandardScaler(copy=False, with_mean=True, with_std=True)"
   ]
  },
  {
   "cell_type": "markdown",
   "metadata": {},
   "source": [
    "## Matching Pursuit\n",
    "\n",
    "Decent paper documenting the algorithm:\n",
    "http://www-labs.iro.umontreal.ca/~pift6080/H09/documents/papers/sparse/vincent_kernel_matching.pdf"
   ]
  },
  {
   "cell_type": "code",
   "execution_count": 5,
   "metadata": {},
   "outputs": [],
   "source": [
    "def matching_pursuit(Dtr, Ytr, Dtr_ts, Yts, max_comp):\n",
    "    alpha = np.zeros(Dtr.shape[1])\n",
    "    res = Ytr.copy()\n",
    "    Dtr_norm = np.einsum('ij,ij->j', Dtr, Dtr)\n",
    "    for c in range(max_comp):\n",
    "        dot = np.dot(Dtr.T, res) / Dtr_norm\n",
    "        gamma_c = np.argmax(np.abs(dot))\n",
    "        alpha[gamma_c] += dot[gamma_c]\n",
    "        res -= alpha[gamma_c] * Dtr[:,gamma_c]\n",
    "    \n",
    "    # Predict\n",
    "    pred_tr = np.dot(Dtr, alpha)\n",
    "    print(f\"Train accuracy: {np.mean(np.sign(pred_tr) == Ytr):.3f}\")\n",
    "    pred_ts = np.dot(Dtr_ts, alpha)\n",
    "    print(f\"Test accuracy: {np.mean(np.sign(pred_ts) == Yts):.3f}\")\n",
    "\n",
    "    return alpha"
   ]
  },
  {
   "cell_type": "code",
   "execution_count": 6,
   "metadata": {},
   "outputs": [],
   "source": [
    "def omp(Dtr, Ytr, Dtr_ts, Yts, max_comp):\n",
    "    alpha = np.zeros(Dtr.shape[1])\n",
    "    res = Ytr.copy()#.reshape(-1, 1)\n",
    "    Dtr_norm = np.einsum('ij,ij->j', Dtr, Dtr)\n",
    "    indices = []\n",
    "    for c in range(max_comp):\n",
    "        dot = np.dot(Dtr.T, res) / Dtr_norm\n",
    "        indices.append(np.argmax(np.abs(dot)))\n",
    "        a_indices = np.asarray(indices)\n",
    "        coef_upd, _, _, _ = np.linalg.lstsq(Dtr[:,a_indices], Ytr, rcond=None)\n",
    "        alpha[a_indices] = coef_upd\n",
    "        res = Ytr - np.dot(Dtr[:,a_indices], coef_upd)\n",
    "    \n",
    "    # Predict\n",
    "    pred_tr = np.dot(alpha, Dtr)\n",
    "    pred_ts = np.dot(alpha, Dtr_ts)\n",
    "    return pred_tr, pred_ts"
   ]
  },
  {
   "cell_type": "code",
   "execution_count": 11,
   "metadata": {},
   "outputs": [],
   "source": [
    "def omp_predict(num_components, kernel):\n",
    "    \"\"\"Run cross-validated OMP with specified parameters.\"\"\"\n",
    "    train_err, test_err = [], []\n",
    "    for train, test in kf.split(X):\n",
    "        X_train, X_test, Y_train, Y_test = X[train], X[test], Y[train], Y[test]\n",
    "        scaler.fit(X_train, X_test)\n",
    "        X_train = scaler.transform(X_train)\n",
    "        X_test = scaler.transform(X_test)\n",
    "\n",
    "        Ktr = kernel(X_train)\n",
    "        Ktr_ts = kernel(X_train, X_test)\n",
    "\n",
    "        train_pred, test_pred = omp(Ktr, Y_train, Ktr_ts, Y_test, num_components)\n",
    "\n",
    "        train_err.append(np.mean(np.sign(train_pred) != Y_train))\n",
    "        test_err.append(np.mean(np.sign(test_pred) != Y_test))\n",
    "    print(\"Train error: %.2f%% - Test error: %.2f%%\" % \n",
    "      (np.mean(train_err)*100, np.mean(test_err)*100))"
   ]
  },
  {
   "cell_type": "code",
   "execution_count": 8,
   "metadata": {},
   "outputs": [],
   "source": [
    "kernel = GaussianKernel(sigma=18, cache_enable=False)"
   ]
  },
  {
   "cell_type": "code",
   "execution_count": 9,
   "metadata": {},
   "outputs": [
    {
     "name": "stdout",
     "output_type": "stream",
     "text": [
      "Train error: 37.56% - Test error: 37.55%\n"
     ]
    }
   ],
   "source": [
    "omp_predict(4, kernel)"
   ]
  },
  {
   "cell_type": "code",
   "execution_count": 12,
   "metadata": {},
   "outputs": [
    {
     "name": "stdout",
     "output_type": "stream",
     "text": [
      "Train error: 36.63% - Test error: 36.60%\n"
     ]
    }
   ],
   "source": [
    "omp_predict(8, kernel)"
   ]
  },
  {
   "cell_type": "code",
   "execution_count": 13,
   "metadata": {},
   "outputs": [
    {
     "name": "stdout",
     "output_type": "stream",
     "text": [
      "Train error: 35.24% - Test error: 35.26%\n"
     ]
    }
   ],
   "source": [
    "omp_predict(20, kernel)"
   ]
  },
  {
   "cell_type": "code",
   "execution_count": 14,
   "metadata": {},
   "outputs": [
    {
     "name": "stdout",
     "output_type": "stream",
     "text": [
      "Train error: 31.38% - Test error: 31.85%\n"
     ]
    }
   ],
   "source": [
    "omp_predict(200, kernel)"
   ]
  },
  {
   "cell_type": "markdown",
   "metadata": {},
   "source": [
    "## LASSO\n",
    "We perform a couple of experiments decreasing alpha (decreasing sparsity)."
   ]
  },
  {
   "cell_type": "code",
   "execution_count": 16,
   "metadata": {},
   "outputs": [],
   "source": [
    "from sklearn.linear_model import Lasso\n",
    "def lasso_err(lasso):\n",
    "    train_err, test_err = [], []\n",
    "    for train, test in kf.split(X):\n",
    "        X_train, X_test, Y_train, Y_test = X[train], X[test], Y[train], Y[test]\n",
    "        scaler.fit(X_train, X_test)\n",
    "        X_train = scaler.transform(X_train)\n",
    "        X_test = scaler.transform(X_test)\n",
    "\n",
    "        lasso.fit(X_train, Y_train)\n",
    "        pred_test = lasso.predict(X_test)\n",
    "        pred_train = lasso.predict(X_train)\n",
    "        train_err.append(np.mean(np.sign(pred_train) != Y_train))\n",
    "        test_err.append(np.mean(np.sign(pred_test) != Y_test))\n",
    "    print(\"Train error: %.2f%% - Test error: %.2f%%\" % \n",
    "      (np.mean(train_err)*100, np.mean(test_err)*100))"
   ]
  },
  {
   "cell_type": "code",
   "execution_count": 42,
   "metadata": {},
   "outputs": [
    {
     "name": "stdout",
     "output_type": "stream",
     "text": [
      "Train error: 100.00% - Test error: 100.00%\n"
     ]
    }
   ],
   "source": [
    "lasso = Lasso(alpha=1, selection=\"random\", tol=1e-3, max_iter=5_000, fit_intercept=False)\n",
    "lasso_err(lasso)"
   ]
  },
  {
   "cell_type": "code",
   "execution_count": 43,
   "metadata": {},
   "outputs": [
    {
     "name": "stdout",
     "output_type": "stream",
     "text": [
      "Train error: 34.72% - Test error: 34.85%\n"
     ]
    }
   ],
   "source": [
    "lasso = Lasso(alpha=0.1, selection=\"random\", tol=1e-3, max_iter=5_000, fit_intercept=False)\n",
    "lasso_err(lasso)"
   ]
  },
  {
   "cell_type": "code",
   "execution_count": 44,
   "metadata": {},
   "outputs": [
    {
     "name": "stdout",
     "output_type": "stream",
     "text": [
      "Train error: 29.83% - Test error: 30.18%\n"
     ]
    }
   ],
   "source": [
    "lasso = Lasso(alpha=0.01, selection=\"random\", tol=1e-3, max_iter=5_000, fit_intercept=False)\n",
    "lasso_err(lasso)"
   ]
  },
  {
   "cell_type": "code",
   "execution_count": 17,
   "metadata": {},
   "outputs": [
    {
     "name": "stdout",
     "output_type": "stream",
     "text": [
      "Train error: 27.37% - Test error: 27.93%\n"
     ]
    }
   ],
   "source": [
    "lasso = Lasso(alpha=0.001, selection=\"random\", tol=1e-3, max_iter=5_000, fit_intercept=False)\n",
    "lasso_err(lasso)"
   ]
  },
  {
   "cell_type": "code",
   "execution_count": 18,
   "metadata": {},
   "outputs": [
    {
     "name": "stderr",
     "output_type": "stream",
     "text": [
      "/home/giacomo/miniconda3/envs/ml/lib/python3.7/site-packages/sklearn/linear_model/_coordinate_descent.py:476: ConvergenceWarning: Objective did not converge. You might want to increase the number of iterations. Duality gap: 761.1928239058325, tolerance: 23.636\n",
      "  positive)\n",
      "/home/giacomo/miniconda3/envs/ml/lib/python3.7/site-packages/sklearn/linear_model/_coordinate_descent.py:476: ConvergenceWarning: Objective did not converge. You might want to increase the number of iterations. Duality gap: 741.5704797987964, tolerance: 23.636\n",
      "  positive)\n",
      "/home/giacomo/miniconda3/envs/ml/lib/python3.7/site-packages/sklearn/linear_model/_coordinate_descent.py:476: ConvergenceWarning: Objective did not converge. You might want to increase the number of iterations. Duality gap: 840.7768766783502, tolerance: 23.636\n",
      "  positive)\n",
      "/home/giacomo/miniconda3/envs/ml/lib/python3.7/site-packages/sklearn/linear_model/_coordinate_descent.py:476: ConvergenceWarning: Objective did not converge. You might want to increase the number of iterations. Duality gap: 867.5892304026656, tolerance: 23.636\n",
      "  positive)\n"
     ]
    },
    {
     "name": "stdout",
     "output_type": "stream",
     "text": [
      "Train error: 25.94% - Test error: 27.00%\n"
     ]
    },
    {
     "name": "stderr",
     "output_type": "stream",
     "text": [
      "/home/giacomo/miniconda3/envs/ml/lib/python3.7/site-packages/sklearn/linear_model/_coordinate_descent.py:476: ConvergenceWarning: Objective did not converge. You might want to increase the number of iterations. Duality gap: 818.1667194256152, tolerance: 23.636\n",
      "  positive)\n"
     ]
    }
   ],
   "source": [
    "lasso = Lasso(alpha=0.0001, selection=\"random\", tol=1e-3, max_iter=5_000, fit_intercept=False)\n",
    "lasso_err(lasso)"
   ]
  }
 ],
 "metadata": {
  "kernelspec": {
   "display_name": "Python 3",
   "language": "python",
   "name": "python3"
  },
  "language_info": {
   "codemirror_mode": {
    "name": "ipython",
    "version": 3
   },
   "file_extension": ".py",
   "mimetype": "text/x-python",
   "name": "python",
   "nbconvert_exporter": "python",
   "pygments_lexer": "ipython3",
   "version": "3.7.6"
  }
 },
 "nbformat": 4,
 "nbformat_minor": 2
}
